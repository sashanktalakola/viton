{
 "cells": [
  {
   "cell_type": "markdown",
   "id": "f509491b",
   "metadata": {
    "id": "4c_Z_lDXHark",
    "papermill": {
     "duration": 0.006303,
     "end_time": "2024-06-07T03:55:04.518903",
     "exception": false,
     "start_time": "2024-06-07T03:55:04.512600",
     "status": "completed"
    },
    "tags": []
   },
   "source": [
    "# Importing and Utils"
   ]
  },
  {
   "cell_type": "code",
   "execution_count": 1,
   "id": "63e52699",
   "metadata": {
    "execution": {
     "iopub.execute_input": "2024-06-07T03:55:04.531705Z",
     "iopub.status.busy": "2024-06-07T03:55:04.531420Z",
     "iopub.status.idle": "2024-06-07T03:55:09.434702Z",
     "shell.execute_reply": "2024-06-07T03:55:09.433656Z"
    },
    "id": "tc3d8-DJFfeF",
    "papermill": {
     "duration": 4.912345,
     "end_time": "2024-06-07T03:55:09.437120",
     "exception": false,
     "start_time": "2024-06-07T03:55:04.524775",
     "status": "completed"
    },
    "tags": []
   },
   "outputs": [],
   "source": [
    "import os\n",
    "import random\n",
    "import torch\n",
    "import torch.nn as nn\n",
    "from torch.utils.data import DataLoader, Dataset\n",
    "import albumentations as A\n",
    "from albumentations.pytorch import ToTensorV2\n",
    "import cv2\n",
    "\n",
    "from torch.optim import Adam\n",
    "\n",
    "\n",
    "random.seed(42)\n",
    "device = torch.device(\"cuda\" if torch.cuda.is_available() else \"cpu\")"
   ]
  },
  {
   "cell_type": "code",
   "execution_count": 2,
   "id": "3fa6add3",
   "metadata": {
    "execution": {
     "iopub.execute_input": "2024-06-07T03:55:09.450378Z",
     "iopub.status.busy": "2024-06-07T03:55:09.449987Z",
     "iopub.status.idle": "2024-06-07T03:55:10.832243Z",
     "shell.execute_reply": "2024-06-07T03:55:10.831321Z"
    },
    "id": "zYC3h2uZHwdm",
    "papermill": {
     "duration": 1.391494,
     "end_time": "2024-06-07T03:55:10.834754",
     "exception": false,
     "start_time": "2024-06-07T03:55:09.443260",
     "status": "completed"
    },
    "tags": []
   },
   "outputs": [],
   "source": [
    "environment = \"kaggle\"\n",
    "\n",
    "if environment == \"local\":\n",
    "  data_root = \"data\"\n",
    "  BATCH_SIZE = 4\n",
    "elif environment == \"kaggle\":\n",
    "  data_root = \"/kaggle/input/marquis-viton-hd\"\n",
    "  BATCH_SIZE = 16\n",
    "\n",
    "train_folder = os.path.join(data_root, \"train\")\n",
    "valid_folder = os.path.join(data_root, \"test\")\n",
    "\n",
    "train_file_names = os.listdir(os.path.join(train_folder, \"image\"))\n",
    "random.shuffle(train_file_names)\n",
    "\n",
    "valid_file_names = os.listdir(os.path.join(valid_folder, \"image\"))\n",
    "random.shuffle(valid_file_names)"
   ]
  },
  {
   "cell_type": "code",
   "execution_count": 3,
   "id": "5008011d",
   "metadata": {
    "execution": {
     "iopub.execute_input": "2024-06-07T03:55:10.848468Z",
     "iopub.status.busy": "2024-06-07T03:55:10.848055Z",
     "iopub.status.idle": "2024-06-07T03:55:30.234846Z",
     "shell.execute_reply": "2024-06-07T03:55:30.233971Z"
    },
    "papermill": {
     "duration": 19.396068,
     "end_time": "2024-06-07T03:55:30.236938",
     "exception": false,
     "start_time": "2024-06-07T03:55:10.840870",
     "status": "completed"
    },
    "tags": []
   },
   "outputs": [
    {
     "name": "stderr",
     "output_type": "stream",
     "text": [
      "\u001b[34m\u001b[1mwandb\u001b[0m: W&B API key is configured. Use \u001b[1m`wandb login --relogin`\u001b[0m to force relogin\n",
      "\u001b[34m\u001b[1mwandb\u001b[0m: \u001b[33mWARNING\u001b[0m If you're specifying your api key in code, ensure this code is not shared publicly.\n",
      "\u001b[34m\u001b[1mwandb\u001b[0m: \u001b[33mWARNING\u001b[0m Consider setting the WANDB_API_KEY environment variable, or running `wandb login` from the command line.\n",
      "\u001b[34m\u001b[1mwandb\u001b[0m: Appending key for api.wandb.ai to your netrc file: /root/.netrc\n",
      "\u001b[34m\u001b[1mwandb\u001b[0m: Currently logged in as: \u001b[33msashanktalakola2\u001b[0m (\u001b[33msashanktalakola\u001b[0m). Use \u001b[1m`wandb login --relogin`\u001b[0m to force relogin\n",
      "\u001b[34m\u001b[1mwandb\u001b[0m: wandb version 0.17.1 is available!  To upgrade, please run:\n",
      "\u001b[34m\u001b[1mwandb\u001b[0m:  $ pip install wandb --upgrade\n",
      "\u001b[34m\u001b[1mwandb\u001b[0m: Tracking run with wandb version 0.17.0\n",
      "\u001b[34m\u001b[1mwandb\u001b[0m: Run data is saved locally in \u001b[35m\u001b[1m/kaggle/working/wandb/run-20240607_035513-pd0tzdee\u001b[0m\n",
      "\u001b[34m\u001b[1mwandb\u001b[0m: Run \u001b[1m`wandb offline`\u001b[0m to turn off syncing.\n",
      "\u001b[34m\u001b[1mwandb\u001b[0m: Syncing run \u001b[33mv0-baseline-0.3\u001b[0m\n",
      "\u001b[34m\u001b[1mwandb\u001b[0m: ⭐️ View project at \u001b[34m\u001b[4mhttps://wandb.ai/sashanktalakola/viton\u001b[0m\n",
      "\u001b[34m\u001b[1mwandb\u001b[0m: 🚀 View run at \u001b[34m\u001b[4mhttps://wandb.ai/sashanktalakola/viton/runs/pd0tzdee\u001b[0m\n"
     ]
    },
    {
     "data": {
      "text/html": [
       "<button onClick=\"this.nextSibling.style.display='block';this.style.display='none';\">Display W&B run</button><iframe src='https://wandb.ai/sashanktalakola/viton/runs/pd0tzdee?jupyter=true' style='border:none;width:100%;height:420px;display:none;'></iframe>"
      ],
      "text/plain": [
       "<wandb.sdk.wandb_run.Run at 0x7d676f1dc4c0>"
      ]
     },
     "execution_count": 3,
     "metadata": {},
     "output_type": "execute_result"
    }
   ],
   "source": [
    "import wandb\n",
    "\n",
    "LR = 1e-4\n",
    "EPOCHS = 20\n",
    "experiment_name = \"v0-baseline-0.3\"\n",
    "\n",
    "if environment == \"kaggle\":\n",
    "    from kaggle_secrets import UserSecretsClient\n",
    "    \n",
    "    user_secrets = UserSecretsClient()\n",
    "    wandb_api = user_secrets.get_secret(\"WANDB_API_KEY\")\n",
    "    \n",
    "    wandb.login(key=wandb_api)\n",
    "\n",
    "wandb.init(\n",
    "    project=\"viton\",\n",
    "    name=experiment_name,\n",
    "    tags=[\"torch\", environment, \"P100\", \"1GPU\"],\n",
    "    notes=\"Large Model (1024 Bottleneck + Batch Norm), Smaller Image (288, 384)\",\n",
    "  \n",
    "    config={\n",
    "    \"learning_rate\": LR,\n",
    "    \"architecture\": \"UNet\",\n",
    "    \"epochs\": EPOCHS,\n",
    "    }\n",
    ")"
   ]
  },
  {
   "cell_type": "markdown",
   "id": "52271bb8",
   "metadata": {
    "id": "_RrSWoLjJ2fv",
    "papermill": {
     "duration": 0.006749,
     "end_time": "2024-06-07T03:55:30.250769",
     "exception": false,
     "start_time": "2024-06-07T03:55:30.244020",
     "status": "completed"
    },
    "tags": []
   },
   "source": [
    "# Dataset"
   ]
  },
  {
   "cell_type": "code",
   "execution_count": 4,
   "id": "3e3eda25",
   "metadata": {
    "execution": {
     "iopub.execute_input": "2024-06-07T03:55:30.265782Z",
     "iopub.status.busy": "2024-06-07T03:55:30.265508Z",
     "iopub.status.idle": "2024-06-07T03:55:30.272500Z",
     "shell.execute_reply": "2024-06-07T03:55:30.271662Z"
    },
    "id": "fjsDPfCMJ57o",
    "papermill": {
     "duration": 0.01675,
     "end_time": "2024-06-07T03:55:30.274342",
     "exception": false,
     "start_time": "2024-06-07T03:55:30.257592",
     "status": "completed"
    },
    "tags": []
   },
   "outputs": [],
   "source": [
    "IMG_SIZE = (288, 384)\n",
    "\n",
    "train_transforms = A.Compose([\n",
    "    A.Resize(height=IMG_SIZE[0], width=IMG_SIZE[1]),\n",
    "    A.Normalize(mean=(0.485, 0.456, 0.406), std=(0.229, 0.224, 0.225)),\n",
    "    ToTensorV2()\n",
    "])\n",
    "\n",
    "label_transforms = A.Compose([\n",
    "  A.Resize(height=IMG_SIZE[0], width=IMG_SIZE[1]),\n",
    "  ToTensorV2()\n",
    "])\n",
    "\n",
    "valid_transforms = A.Compose([\n",
    "    A.Resize(height=IMG_SIZE[0], width=IMG_SIZE[1]),\n",
    "    A.Normalize(mean=(0.485, 0.456, 0.406), std=(0.229, 0.224, 0.225)),\n",
    "    ToTensorV2()\n",
    "])"
   ]
  },
  {
   "cell_type": "code",
   "execution_count": 5,
   "id": "0c0ad3ac",
   "metadata": {
    "execution": {
     "iopub.execute_input": "2024-06-07T03:55:30.288954Z",
     "iopub.status.busy": "2024-06-07T03:55:30.288701Z",
     "iopub.status.idle": "2024-06-07T03:55:30.297802Z",
     "shell.execute_reply": "2024-06-07T03:55:30.296957Z"
    },
    "id": "SQXyhV-vKfJq",
    "papermill": {
     "duration": 0.018637,
     "end_time": "2024-06-07T03:55:30.299664",
     "exception": false,
     "start_time": "2024-06-07T03:55:30.281027",
     "status": "completed"
    },
    "tags": []
   },
   "outputs": [],
   "source": [
    "class TrainDataset(Dataset):\n",
    "  def __init__(self, image_list, image_folder, transforms, label_transforms):\n",
    "    self.image_list = image_list\n",
    "    self.image_folder = image_folder\n",
    "    self.transforms = transforms\n",
    "    self.label_transforms = label_transforms\n",
    "\n",
    "  def __len__(self): return len(self.image_list)\n",
    "\n",
    "  def __getitem__(self, i):\n",
    "    image_name = self.image_list[i]\n",
    "\n",
    "    agnostic_path = os.path.join(self.image_folder, \"agnostic\", image_name)\n",
    "    cloth_path = os.path.join(self.image_folder, \"cloth\", image_name)\n",
    "    output_img_path = os.path.join(self.image_folder, \"image\", image_name)\n",
    "\n",
    "    agnostic_image = cv2.cvtColor(cv2.imread(agnostic_path), cv2.COLOR_BGR2RGB)\n",
    "    cloth_image = cv2.cvtColor(cv2.imread(cloth_path), cv2.COLOR_BGR2RGB)\n",
    "    output_img_image = cv2.cvtColor(cv2.imread(output_img_path), cv2.COLOR_BGR2RGB)\n",
    "\n",
    "    agnostic_image = self.transforms(image=agnostic_image)[\"image\"]\n",
    "    cloth_image = self.transforms(image=cloth_image)[\"image\"]\n",
    "    output_img_image = self.label_transforms(image=output_img_image)[\"image\"]\n",
    "\n",
    "    return agnostic_image, cloth_image, output_img_image.float()\n",
    "\n",
    "train_dataset = TrainDataset(train_file_names, train_folder, train_transforms, label_transforms)\n",
    "train_dataloader = DataLoader(train_dataset, batch_size=BATCH_SIZE, shuffle=True)"
   ]
  },
  {
   "cell_type": "code",
   "execution_count": 6,
   "id": "f76a51ad",
   "metadata": {
    "execution": {
     "iopub.execute_input": "2024-06-07T03:55:30.314056Z",
     "iopub.status.busy": "2024-06-07T03:55:30.313814Z",
     "iopub.status.idle": "2024-06-07T03:55:30.322590Z",
     "shell.execute_reply": "2024-06-07T03:55:30.321740Z"
    },
    "papermill": {
     "duration": 0.018022,
     "end_time": "2024-06-07T03:55:30.324382",
     "exception": false,
     "start_time": "2024-06-07T03:55:30.306360",
     "status": "completed"
    },
    "tags": []
   },
   "outputs": [],
   "source": [
    "class ValidDataset(Dataset):\n",
    "  def __init__(self, image_list, image_folder, transforms, label_transforms):\n",
    "    self.image_list = image_list\n",
    "    self.image_folder = image_folder\n",
    "    self.transforms = transforms\n",
    "    self.label_transforms = label_transforms\n",
    "\n",
    "  def __len__(self): return len(self.image_list)\n",
    "\n",
    "  def __getitem__(self, i):\n",
    "    image_name = self.image_list[i]\n",
    "\n",
    "    agnostic_path = os.path.join(self.image_folder, \"agnostic\", image_name)\n",
    "    cloth_path = os.path.join(self.image_folder, \"cloth\", image_name)\n",
    "    output_img_path = os.path.join(self.image_folder, \"image\", image_name)\n",
    "\n",
    "    agnostic_image = cv2.cvtColor(cv2.imread(agnostic_path), cv2.COLOR_BGR2RGB)\n",
    "    cloth_image = cv2.cvtColor(cv2.imread(cloth_path), cv2.COLOR_BGR2RGB)\n",
    "    output_img_image = cv2.cvtColor(cv2.imread(output_img_path), cv2.COLOR_BGR2RGB)\n",
    "\n",
    "    agnostic_image = self.transforms(image=agnostic_image)[\"image\"]\n",
    "    cloth_image = self.transforms(image=cloth_image)[\"image\"]\n",
    "    output_img_image = self.label_transforms(image=output_img_image)[\"image\"]\n",
    "\n",
    "    return agnostic_image, cloth_image, output_img_image.float()\n",
    "\n",
    "valid_dataset = TrainDataset(valid_file_names, valid_folder, train_transforms, label_transforms)\n",
    "valid_dataloader = DataLoader(valid_dataset, batch_size=BATCH_SIZE, shuffle=False)"
   ]
  },
  {
   "cell_type": "markdown",
   "id": "6e01c6ed",
   "metadata": {
    "id": "RbakXBSpOUEM",
    "papermill": {
     "duration": 0.0068,
     "end_time": "2024-06-07T03:55:30.338019",
     "exception": false,
     "start_time": "2024-06-07T03:55:30.331219",
     "status": "completed"
    },
    "tags": []
   },
   "source": [
    "# Model"
   ]
  },
  {
   "cell_type": "code",
   "execution_count": 7,
   "id": "5df6313a",
   "metadata": {
    "execution": {
     "iopub.execute_input": "2024-06-07T03:55:30.353636Z",
     "iopub.status.busy": "2024-06-07T03:55:30.353384Z",
     "iopub.status.idle": "2024-06-07T03:55:30.360081Z",
     "shell.execute_reply": "2024-06-07T03:55:30.359191Z"
    },
    "id": "nTbo4p7eTgDL",
    "papermill": {
     "duration": 0.017269,
     "end_time": "2024-06-07T03:55:30.362025",
     "exception": false,
     "start_time": "2024-06-07T03:55:30.344756",
     "status": "completed"
    },
    "tags": []
   },
   "outputs": [],
   "source": [
    "class DoubleConv(nn.Module):\n",
    "  def __init__(self, in_channels, out_channels, kernel_size=3, padding=1):\n",
    "    super(DoubleConv, self).__init__()\n",
    "\n",
    "    self.in_channels = in_channels\n",
    "    self.out_channels = out_channels\n",
    "    self.kernel_size = kernel_size\n",
    "    self.padding = padding\n",
    "\n",
    "    self.double_conv = nn.Sequential(\n",
    "        nn.Conv2d(in_channels, out_channels, kernel_size=kernel_size, padding=padding),\n",
    "        nn.BatchNorm2d(out_channels),\n",
    "        nn.ReLU(inplace=True),\n",
    "        nn.Conv2d(out_channels, out_channels, kernel_size=kernel_size, padding=padding),\n",
    "        nn.BatchNorm2d(out_channels),\n",
    "        nn.ReLU(inplace=True)\n",
    "    )\n",
    "\n",
    "  def forward(self, X):\n",
    "    X = self.double_conv(X)\n",
    "    \n",
    "    return X"
   ]
  },
  {
   "cell_type": "code",
   "execution_count": 8,
   "id": "d5813d5c",
   "metadata": {
    "execution": {
     "iopub.execute_input": "2024-06-07T03:55:30.376817Z",
     "iopub.status.busy": "2024-06-07T03:55:30.376317Z",
     "iopub.status.idle": "2024-06-07T03:55:30.382658Z",
     "shell.execute_reply": "2024-06-07T03:55:30.381833Z"
    },
    "id": "uRXLMaXqOVIV",
    "papermill": {
     "duration": 0.015666,
     "end_time": "2024-06-07T03:55:30.384422",
     "exception": false,
     "start_time": "2024-06-07T03:55:30.368756",
     "status": "completed"
    },
    "tags": []
   },
   "outputs": [],
   "source": [
    "class DownSample(nn.Module):\n",
    "  def __init__(self, in_channels, out_channels, kernel_size=3, padding=1):\n",
    "    super(DownSample, self).__init__()\n",
    "\n",
    "    self.in_channels = in_channels\n",
    "    self.out_channels = out_channels\n",
    "    self.kernel_size = kernel_size\n",
    "    self.padding = padding\n",
    "\n",
    "    self.double_conv = DoubleConv(in_channels, out_channels, kernel_size=kernel_size, padding=padding)\n",
    "    self.pool = nn.MaxPool2d(kernel_size=2, stride=2)\n",
    "\n",
    "  def forward(self, X):\n",
    "    X = self.double_conv(X)\n",
    "    X_pooled = self.pool(X)\n",
    "\n",
    "    return X, X_pooled"
   ]
  },
  {
   "cell_type": "code",
   "execution_count": 9,
   "id": "4a1b4cb0",
   "metadata": {
    "execution": {
     "iopub.execute_input": "2024-06-07T03:55:30.399101Z",
     "iopub.status.busy": "2024-06-07T03:55:30.398845Z",
     "iopub.status.idle": "2024-06-07T03:55:30.405094Z",
     "shell.execute_reply": "2024-06-07T03:55:30.404269Z"
    },
    "id": "JV2G2uIhUPOO",
    "papermill": {
     "duration": 0.015879,
     "end_time": "2024-06-07T03:55:30.406967",
     "exception": false,
     "start_time": "2024-06-07T03:55:30.391088",
     "status": "completed"
    },
    "tags": []
   },
   "outputs": [],
   "source": [
    "class UpSample(nn.Module):\n",
    "  def __init__(self, in_channels, out_channels, kernel_size=3, padding=1):\n",
    "    super(UpSample, self).__init__()\n",
    "\n",
    "    self.in_channels = in_channels\n",
    "    self.out_channels = out_channels\n",
    "    self.kernel_size = kernel_size\n",
    "    self.padding = padding\n",
    "\n",
    "    self.up = nn.ConvTranspose2d(in_channels, out_channels, kernel_size=2, stride=2)\n",
    "    self.double_conv = DoubleConv(in_channels, out_channels, kernel_size=kernel_size, padding=padding)\n",
    "\n",
    "  def forward(self, X, X_skip):\n",
    "    X = self.up(X)\n",
    "\n",
    "    X_cat = torch.cat((X, X_skip), dim=1)\n",
    "    X_cat = self.double_conv(X_cat)\n",
    "\n",
    "    return X_cat"
   ]
  },
  {
   "cell_type": "code",
   "execution_count": 10,
   "id": "e62b706d",
   "metadata": {
    "execution": {
     "iopub.execute_input": "2024-06-07T03:55:30.421518Z",
     "iopub.status.busy": "2024-06-07T03:55:30.421231Z",
     "iopub.status.idle": "2024-06-07T03:55:30.431113Z",
     "shell.execute_reply": "2024-06-07T03:55:30.430265Z"
    },
    "id": "4MOFjZgmYhum",
    "papermill": {
     "duration": 0.019255,
     "end_time": "2024-06-07T03:55:30.432978",
     "exception": false,
     "start_time": "2024-06-07T03:55:30.413723",
     "status": "completed"
    },
    "tags": []
   },
   "outputs": [],
   "source": [
    "class UNet(nn.Module):\n",
    "  def __init__(self, filter_sizes):\n",
    "    super(UNet, self).__init__()\n",
    "\n",
    "    self.filter_sizes = filter_sizes\n",
    "    self.down_sample_blocks = []\n",
    "\n",
    "    current_in_channels = 6\n",
    "    for filter_size in filter_sizes:\n",
    "      self.down_sample_blocks.append(DownSample(current_in_channels, filter_size, kernel_size=3, padding=1).to(device))\n",
    "      current_in_channels = filter_size\n",
    "\n",
    "    self.bottleneck = DoubleConv(filter_sizes[-1], filter_sizes[-1]*2, kernel_size=3, padding=1)\n",
    "\n",
    "    self.up_sample_blocks = []\n",
    "    for filter_size in filter_sizes[::-1]:\n",
    "      self.up_sample_blocks.append(UpSample(filter_size*2, filter_size, kernel_size=3, padding=1).to(device))\n",
    "\n",
    "    self.out_conv = nn.Conv2d(filter_sizes[0], 3, kernel_size=1)\n",
    "\n",
    "\n",
    "  def forward(self, X_agnostic, X_cloth):\n",
    "    X = torch.cat((X_agnostic, X_cloth), dim=1)\n",
    "\n",
    "    X1_skip, X = self.down_sample_blocks[0](X)\n",
    "    X2_skip, X = self.down_sample_blocks[1](X)\n",
    "    X3_skip, X = self.down_sample_blocks[2](X)\n",
    "    X4_skip, X = self.down_sample_blocks[3](X)\n",
    "\n",
    "    X = self.bottleneck(X)\n",
    "\n",
    "    X = self.up_sample_blocks[0](X, X4_skip)\n",
    "    X = self.up_sample_blocks[1](X, X3_skip)\n",
    "    X = self.up_sample_blocks[2](X, X2_skip)\n",
    "    X = self.up_sample_blocks[3](X, X1_skip)\n",
    "\n",
    "    X = self.out_conv(X)\n",
    "\n",
    "    return X"
   ]
  },
  {
   "cell_type": "code",
   "execution_count": 11,
   "id": "24a64094",
   "metadata": {
    "execution": {
     "iopub.execute_input": "2024-06-07T03:55:30.447527Z",
     "iopub.status.busy": "2024-06-07T03:55:30.447253Z",
     "iopub.status.idle": "2024-06-07T03:55:30.976419Z",
     "shell.execute_reply": "2024-06-07T03:55:30.975326Z"
    },
    "id": "35wZSND0a-8d",
    "papermill": {
     "duration": 0.53905,
     "end_time": "2024-06-07T03:55:30.978727",
     "exception": false,
     "start_time": "2024-06-07T03:55:30.439677",
     "status": "completed"
    },
    "tags": []
   },
   "outputs": [],
   "source": [
    "model = UNet([64, 128, 256, 512]).to(device)"
   ]
  },
  {
   "cell_type": "markdown",
   "id": "90001203",
   "metadata": {
    "id": "Y1RmNJ0PolOI",
    "papermill": {
     "duration": 0.006732,
     "end_time": "2024-06-07T03:55:30.992823",
     "exception": false,
     "start_time": "2024-06-07T03:55:30.986091",
     "status": "completed"
    },
    "tags": []
   },
   "source": [
    "# Training"
   ]
  },
  {
   "cell_type": "markdown",
   "id": "6b920c5b",
   "metadata": {
    "papermill": {
     "duration": 0.006479,
     "end_time": "2024-06-07T03:55:31.006004",
     "exception": false,
     "start_time": "2024-06-07T03:55:30.999525",
     "status": "completed"
    },
    "tags": []
   },
   "source": [
    "## Train Loop"
   ]
  },
  {
   "cell_type": "code",
   "execution_count": 12,
   "id": "d12f3d0e",
   "metadata": {
    "execution": {
     "iopub.execute_input": "2024-06-07T03:55:31.020688Z",
     "iopub.status.busy": "2024-06-07T03:55:31.020349Z",
     "iopub.status.idle": "2024-06-07T03:55:31.994448Z",
     "shell.execute_reply": "2024-06-07T03:55:31.993673Z"
    },
    "papermill": {
     "duration": 0.98428,
     "end_time": "2024-06-07T03:55:31.996930",
     "exception": false,
     "start_time": "2024-06-07T03:55:31.012650",
     "status": "completed"
    },
    "tags": []
   },
   "outputs": [],
   "source": [
    "loss_fn = torch.nn.MSELoss()\n",
    "optimizer = Adam(model.parameters(), lr=LR)"
   ]
  },
  {
   "cell_type": "code",
   "execution_count": 13,
   "id": "6c17eb6e",
   "metadata": {
    "execution": {
     "iopub.execute_input": "2024-06-07T03:55:32.012565Z",
     "iopub.status.busy": "2024-06-07T03:55:32.012232Z",
     "iopub.status.idle": "2024-06-07T03:55:32.019255Z",
     "shell.execute_reply": "2024-06-07T03:55:32.018511Z"
    },
    "papermill": {
     "duration": 0.016808,
     "end_time": "2024-06-07T03:55:32.021056",
     "exception": false,
     "start_time": "2024-06-07T03:55:32.004248",
     "status": "completed"
    },
    "tags": []
   },
   "outputs": [],
   "source": [
    "from tqdm import tqdm\n",
    "\n",
    "def train(model, dataloader, loss_fn, optimizer, epoch):\n",
    "  model.train()\n",
    "\n",
    "  batch_losses = []\n",
    "\n",
    "  pbar = tqdm(dataloader, unit=\"batch\", leave=True, desc=f\"Training : Epoch [{epoch+1}/{EPOCHS}]\")\n",
    "  for batch_idx, (X1, X2, target) in enumerate(pbar):\n",
    "    X1 = X1.to(device)\n",
    "    X2 = X2.to(device)\n",
    "    target = target.to(device)\n",
    "\n",
    "    prediction = model(X1, X2)\n",
    "    loss = loss_fn(prediction, target)\n",
    "\n",
    "    optimizer.zero_grad()\n",
    "    loss.backward()\n",
    "    optimizer.step()\n",
    "\n",
    "    batch_losses.append(loss.item())\n",
    "    pbar.set_postfix({\"Batch Loss\": loss.item()})\n",
    "\n",
    "  return batch_losses"
   ]
  },
  {
   "cell_type": "markdown",
   "id": "d7dafca7",
   "metadata": {
    "papermill": {
     "duration": 0.006539,
     "end_time": "2024-06-07T03:55:32.034379",
     "exception": false,
     "start_time": "2024-06-07T03:55:32.027840",
     "status": "completed"
    },
    "tags": []
   },
   "source": [
    "## Validation Loop"
   ]
  },
  {
   "cell_type": "code",
   "execution_count": 14,
   "id": "41c0c701",
   "metadata": {
    "execution": {
     "iopub.execute_input": "2024-06-07T03:55:32.048968Z",
     "iopub.status.busy": "2024-06-07T03:55:32.048691Z",
     "iopub.status.idle": "2024-06-07T03:55:32.057134Z",
     "shell.execute_reply": "2024-06-07T03:55:32.056312Z"
    },
    "papermill": {
     "duration": 0.017842,
     "end_time": "2024-06-07T03:55:32.059008",
     "exception": false,
     "start_time": "2024-06-07T03:55:32.041166",
     "status": "completed"
    },
    "tags": []
   },
   "outputs": [],
   "source": [
    "def valid(model, dataloader, loss_fn, epoch):\n",
    "  model.eval()\n",
    "\n",
    "  batch_losses = []\n",
    "\n",
    "  pbar = tqdm(dataloader, unit=\"batch\", leave=True, desc=f\"Validation : Epoch [{epoch+1}/{EPOCHS}]\")\n",
    "  for batch_idx, (X1, X2, target) in enumerate(pbar):\n",
    "    X1 = X1.to(device)\n",
    "    X2 = X2.to(device)\n",
    "    target = target.to(device)\n",
    "\n",
    "    with torch.inference_mode():\n",
    "      prediction = model(X1, X2)\n",
    "      loss = loss_fn(prediction, target)\n",
    "\n",
    "    batch_losses.append(loss.item())\n",
    "    pbar.set_postfix({\"Batch Loss\": loss.item()})\n",
    "\n",
    "  return batch_losses"
   ]
  },
  {
   "cell_type": "code",
   "execution_count": 15,
   "id": "6581b758",
   "metadata": {
    "execution": {
     "iopub.execute_input": "2024-06-07T03:55:32.074729Z",
     "iopub.status.busy": "2024-06-07T03:55:32.074481Z",
     "iopub.status.idle": "2024-06-07T09:34:39.043148Z",
     "shell.execute_reply": "2024-06-07T09:34:39.042242Z"
    },
    "papermill": {
     "duration": 20348.660867,
     "end_time": "2024-06-07T09:34:40.727753",
     "exception": false,
     "start_time": "2024-06-07T03:55:32.066886",
     "status": "completed"
    },
    "tags": []
   },
   "outputs": [
    {
     "name": "stderr",
     "output_type": "stream",
     "text": [
      "Training : Epoch [1/20]: 100%|██████████| 728/728 [20:01<00:00,  1.65s/batch, Batch Loss=3.75e+4]\n"
     ]
    },
    {
     "name": "stdout",
     "output_type": "stream",
     "text": [
      "Epoch [1/20]\tLoss: 38216.4814453125\n"
     ]
    },
    {
     "name": "stderr",
     "output_type": "stream",
     "text": [
      "Validation : Epoch [1/20]: 100%|██████████| 127/127 [02:31<00:00,  1.19s/batch, Batch Loss=4e+4]\n"
     ]
    },
    {
     "name": "stdout",
     "output_type": "stream",
     "text": [
      "Epoch [1/20]\tLoss: 37888.46465920276\n",
      "\n"
     ]
    },
    {
     "name": "stderr",
     "output_type": "stream",
     "text": [
      "Training : Epoch [2/20]: 100%|██████████| 728/728 [14:46<00:00,  1.22s/batch, Batch Loss=3.68e+4]\n"
     ]
    },
    {
     "name": "stdout",
     "output_type": "stream",
     "text": [
      "Epoch [2/20]\tLoss: 37632.2126518501\n"
     ]
    },
    {
     "name": "stderr",
     "output_type": "stream",
     "text": [
      "Validation : Epoch [2/20]: 100%|██████████| 127/127 [01:39<00:00,  1.28batch/s, Batch Loss=3.94e+4]\n"
     ]
    },
    {
     "name": "stdout",
     "output_type": "stream",
     "text": [
      "Epoch [2/20]\tLoss: 37307.428672490154\n",
      "\n"
     ]
    },
    {
     "name": "stderr",
     "output_type": "stream",
     "text": [
      "Training : Epoch [3/20]: 100%|██████████| 728/728 [14:47<00:00,  1.22s/batch, Batch Loss=3.63e+4]\n"
     ]
    },
    {
     "name": "stdout",
     "output_type": "stream",
     "text": [
      "Epoch [3/20]\tLoss: 37056.22685761504\n"
     ]
    },
    {
     "name": "stderr",
     "output_type": "stream",
     "text": [
      "Validation : Epoch [3/20]: 100%|██████████| 127/127 [01:42<00:00,  1.25batch/s, Batch Loss=3.88e+4]\n"
     ]
    },
    {
     "name": "stdout",
     "output_type": "stream",
     "text": [
      "Epoch [3/20]\tLoss: 36735.55041215551\n",
      "\n"
     ]
    },
    {
     "name": "stderr",
     "output_type": "stream",
     "text": [
      "Training : Epoch [4/20]: 100%|██████████| 728/728 [14:54<00:00,  1.23s/batch, Batch Loss=3.48e+4]\n"
     ]
    },
    {
     "name": "stdout",
     "output_type": "stream",
     "text": [
      "Epoch [4/20]\tLoss: 36488.90303056319\n"
     ]
    },
    {
     "name": "stderr",
     "output_type": "stream",
     "text": [
      "Validation : Epoch [4/20]: 100%|██████████| 127/127 [01:40<00:00,  1.27batch/s, Batch Loss=3.82e+4]\n"
     ]
    },
    {
     "name": "stdout",
     "output_type": "stream",
     "text": [
      "Epoch [4/20]\tLoss: 36172.77448326772\n",
      "\n"
     ]
    },
    {
     "name": "stderr",
     "output_type": "stream",
     "text": [
      "Training : Epoch [5/20]: 100%|██████████| 728/728 [14:52<00:00,  1.23s/batch, Batch Loss=3.61e+4]\n"
     ]
    },
    {
     "name": "stdout",
     "output_type": "stream",
     "text": [
      "Epoch [5/20]\tLoss: 35930.54759669042\n"
     ]
    },
    {
     "name": "stderr",
     "output_type": "stream",
     "text": [
      "Validation : Epoch [5/20]: 100%|██████████| 127/127 [01:40<00:00,  1.26batch/s, Batch Loss=3.76e+4]\n"
     ]
    },
    {
     "name": "stdout",
     "output_type": "stream",
     "text": [
      "Epoch [5/20]\tLoss: 35617.9702878937\n",
      "\n"
     ]
    },
    {
     "name": "stderr",
     "output_type": "stream",
     "text": [
      "Training : Epoch [6/20]: 100%|██████████| 728/728 [14:50<00:00,  1.22s/batch, Batch Loss=3.66e+4]\n"
     ]
    },
    {
     "name": "stdout",
     "output_type": "stream",
     "text": [
      "Epoch [6/20]\tLoss: 35380.91757436899\n"
     ]
    },
    {
     "name": "stderr",
     "output_type": "stream",
     "text": [
      "Validation : Epoch [6/20]: 100%|██████████| 127/127 [01:40<00:00,  1.26batch/s, Batch Loss=3.7e+4]\n"
     ]
    },
    {
     "name": "stdout",
     "output_type": "stream",
     "text": [
      "Epoch [6/20]\tLoss: 35070.738004429135\n",
      "\n"
     ]
    },
    {
     "name": "stderr",
     "output_type": "stream",
     "text": [
      "Training : Epoch [7/20]: 100%|██████████| 728/728 [14:54<00:00,  1.23s/batch, Batch Loss=3.65e+4]\n"
     ]
    },
    {
     "name": "stdout",
     "output_type": "stream",
     "text": [
      "Epoch [7/20]\tLoss: 34835.583471947975\n"
     ]
    },
    {
     "name": "stderr",
     "output_type": "stream",
     "text": [
      "Validation : Epoch [7/20]: 100%|██████████| 127/127 [01:40<00:00,  1.26batch/s, Batch Loss=3.65e+4]\n"
     ]
    },
    {
     "name": "stdout",
     "output_type": "stream",
     "text": [
      "Epoch [7/20]\tLoss: 34532.99953863189\n",
      "\n"
     ]
    },
    {
     "name": "stderr",
     "output_type": "stream",
     "text": [
      "Training : Epoch [8/20]: 100%|██████████| 728/728 [15:01<00:00,  1.24s/batch, Batch Loss=3.3e+4]\n"
     ]
    },
    {
     "name": "stdout",
     "output_type": "stream",
     "text": [
      "Epoch [8/20]\tLoss: 34300.87962794042\n"
     ]
    },
    {
     "name": "stderr",
     "output_type": "stream",
     "text": [
      "Validation : Epoch [8/20]: 100%|██████████| 127/127 [01:44<00:00,  1.22batch/s, Batch Loss=3.59e+4]\n"
     ]
    },
    {
     "name": "stdout",
     "output_type": "stream",
     "text": [
      "Epoch [8/20]\tLoss: 34000.692882627955\n",
      "\n"
     ]
    },
    {
     "name": "stderr",
     "output_type": "stream",
     "text": [
      "Training : Epoch [9/20]: 100%|██████████| 728/728 [15:08<00:00,  1.25s/batch, Batch Loss=3.41e+4]\n"
     ]
    },
    {
     "name": "stdout",
     "output_type": "stream",
     "text": [
      "Epoch [9/20]\tLoss: 33773.98232797476\n"
     ]
    },
    {
     "name": "stderr",
     "output_type": "stream",
     "text": [
      "Validation : Epoch [9/20]: 100%|██████████| 127/127 [01:44<00:00,  1.22batch/s, Batch Loss=3.54e+4]\n"
     ]
    },
    {
     "name": "stdout",
     "output_type": "stream",
     "text": [
      "Epoch [9/20]\tLoss: 33476.09767162894\n",
      "\n"
     ]
    },
    {
     "name": "stderr",
     "output_type": "stream",
     "text": [
      "Training : Epoch [10/20]: 100%|██████████| 728/728 [15:00<00:00,  1.24s/batch, Batch Loss=3.33e+4]\n"
     ]
    },
    {
     "name": "stdout",
     "output_type": "stream",
     "text": [
      "Epoch [10/20]\tLoss: 33254.9622869806\n"
     ]
    },
    {
     "name": "stderr",
     "output_type": "stream",
     "text": [
      "Validation : Epoch [10/20]: 100%|██████████| 127/127 [01:41<00:00,  1.25batch/s, Batch Loss=3.49e+4]\n"
     ]
    },
    {
     "name": "stdout",
     "output_type": "stream",
     "text": [
      "Epoch [10/20]\tLoss: 32959.76470226378\n",
      "\n"
     ]
    },
    {
     "name": "stderr",
     "output_type": "stream",
     "text": [
      "Training : Epoch [11/20]: 100%|██████████| 728/728 [14:53<00:00,  1.23s/batch, Batch Loss=3.14e+4]\n"
     ]
    },
    {
     "name": "stdout",
     "output_type": "stream",
     "text": [
      "Epoch [11/20]\tLoss: 32743.916662195228\n"
     ]
    },
    {
     "name": "stderr",
     "output_type": "stream",
     "text": [
      "Validation : Epoch [11/20]: 100%|██████████| 127/127 [01:41<00:00,  1.25batch/s, Batch Loss=3.43e+4]\n"
     ]
    },
    {
     "name": "stdout",
     "output_type": "stream",
     "text": [
      "Epoch [11/20]\tLoss: 32452.439960629923\n",
      "\n"
     ]
    },
    {
     "name": "stderr",
     "output_type": "stream",
     "text": [
      "Training : Epoch [12/20]: 100%|██████████| 728/728 [14:53<00:00,  1.23s/batch, Batch Loss=3.23e+4]\n"
     ]
    },
    {
     "name": "stdout",
     "output_type": "stream",
     "text": [
      "Epoch [12/20]\tLoss: 32239.837246737636\n"
     ]
    },
    {
     "name": "stderr",
     "output_type": "stream",
     "text": [
      "Validation : Epoch [12/20]: 100%|██████████| 127/127 [01:41<00:00,  1.25batch/s, Batch Loss=3.38e+4]\n"
     ]
    },
    {
     "name": "stdout",
     "output_type": "stream",
     "text": [
      "Epoch [12/20]\tLoss: 31950.83146222933\n",
      "\n"
     ]
    },
    {
     "name": "stderr",
     "output_type": "stream",
     "text": [
      "Training : Epoch [13/20]: 100%|██████████| 728/728 [14:58<00:00,  1.23s/batch, Batch Loss=2.99e+4]\n"
     ]
    },
    {
     "name": "stdout",
     "output_type": "stream",
     "text": [
      "Epoch [13/20]\tLoss: 31741.007160564044\n"
     ]
    },
    {
     "name": "stderr",
     "output_type": "stream",
     "text": [
      "Validation : Epoch [13/20]: 100%|██████████| 127/127 [01:40<00:00,  1.27batch/s, Batch Loss=3.33e+4]\n"
     ]
    },
    {
     "name": "stdout",
     "output_type": "stream",
     "text": [
      "Epoch [13/20]\tLoss: 31456.17413570374\n",
      "\n"
     ]
    },
    {
     "name": "stderr",
     "output_type": "stream",
     "text": [
      "Training : Epoch [14/20]: 100%|██████████| 728/728 [15:04<00:00,  1.24s/batch, Batch Loss=3.05e+4]\n"
     ]
    },
    {
     "name": "stdout",
     "output_type": "stream",
     "text": [
      "Epoch [14/20]\tLoss: 31251.65168913118\n"
     ]
    },
    {
     "name": "stderr",
     "output_type": "stream",
     "text": [
      "Validation : Epoch [14/20]: 100%|██████████| 127/127 [01:40<00:00,  1.26batch/s, Batch Loss=3.28e+4]\n"
     ]
    },
    {
     "name": "stdout",
     "output_type": "stream",
     "text": [
      "Epoch [14/20]\tLoss: 30971.869156003937\n",
      "\n"
     ]
    },
    {
     "name": "stderr",
     "output_type": "stream",
     "text": [
      "Training : Epoch [15/20]: 100%|██████████| 728/728 [15:05<00:00,  1.24s/batch, Batch Loss=3.06e+4]\n"
     ]
    },
    {
     "name": "stdout",
     "output_type": "stream",
     "text": [
      "Epoch [15/20]\tLoss: 30768.13940697974\n"
     ]
    },
    {
     "name": "stderr",
     "output_type": "stream",
     "text": [
      "Validation : Epoch [15/20]: 100%|██████████| 127/127 [01:40<00:00,  1.26batch/s, Batch Loss=3.23e+4]\n"
     ]
    },
    {
     "name": "stdout",
     "output_type": "stream",
     "text": [
      "Epoch [15/20]\tLoss: 30492.00610543799\n",
      "\n"
     ]
    },
    {
     "name": "stderr",
     "output_type": "stream",
     "text": [
      "Training : Epoch [16/20]: 100%|██████████| 728/728 [15:06<00:00,  1.24s/batch, Batch Loss=3.07e+4]\n"
     ]
    },
    {
     "name": "stdout",
     "output_type": "stream",
     "text": [
      "Epoch [16/20]\tLoss: 30292.467682220125\n"
     ]
    },
    {
     "name": "stderr",
     "output_type": "stream",
     "text": [
      "Validation : Epoch [16/20]: 100%|██████████| 127/127 [01:46<00:00,  1.19batch/s, Batch Loss=3.18e+4]\n"
     ]
    },
    {
     "name": "stdout",
     "output_type": "stream",
     "text": [
      "Epoch [16/20]\tLoss: 30020.462967519685\n",
      "\n"
     ]
    },
    {
     "name": "stderr",
     "output_type": "stream",
     "text": [
      "Training : Epoch [17/20]: 100%|██████████| 728/728 [15:05<00:00,  1.24s/batch, Batch Loss=3.08e+4]\n"
     ]
    },
    {
     "name": "stdout",
     "output_type": "stream",
     "text": [
      "Epoch [17/20]\tLoss: 29826.432324755322\n"
     ]
    },
    {
     "name": "stderr",
     "output_type": "stream",
     "text": [
      "Validation : Epoch [17/20]: 100%|██████████| 127/127 [01:41<00:00,  1.26batch/s, Batch Loss=3.13e+4]\n"
     ]
    },
    {
     "name": "stdout",
     "output_type": "stream",
     "text": [
      "Epoch [17/20]\tLoss: 29557.746278297243\n",
      "\n"
     ]
    },
    {
     "name": "stderr",
     "output_type": "stream",
     "text": [
      "Training : Epoch [18/20]: 100%|██████████| 728/728 [15:00<00:00,  1.24s/batch, Batch Loss=2.85e+4]\n"
     ]
    },
    {
     "name": "stdout",
     "output_type": "stream",
     "text": [
      "Epoch [18/20]\tLoss: 29367.734069153503\n"
     ]
    },
    {
     "name": "stderr",
     "output_type": "stream",
     "text": [
      "Validation : Epoch [18/20]: 100%|██████████| 127/127 [01:41<00:00,  1.25batch/s, Batch Loss=3.08e+4]\n"
     ]
    },
    {
     "name": "stdout",
     "output_type": "stream",
     "text": [
      "Epoch [18/20]\tLoss: 29102.039047121063\n",
      "\n"
     ]
    },
    {
     "name": "stderr",
     "output_type": "stream",
     "text": [
      "Training : Epoch [19/20]: 100%|██████████| 728/728 [14:57<00:00,  1.23s/batch, Batch Loss=2.8e+4]\n"
     ]
    },
    {
     "name": "stdout",
     "output_type": "stream",
     "text": [
      "Epoch [19/20]\tLoss: 28914.694907387533\n"
     ]
    },
    {
     "name": "stderr",
     "output_type": "stream",
     "text": [
      "Validation : Epoch [19/20]: 100%|██████████| 127/127 [01:41<00:00,  1.25batch/s, Batch Loss=3.04e+4]\n"
     ]
    },
    {
     "name": "stdout",
     "output_type": "stream",
     "text": [
      "Epoch [19/20]\tLoss: 28653.887718380905\n",
      "\n"
     ]
    },
    {
     "name": "stderr",
     "output_type": "stream",
     "text": [
      "Training : Epoch [20/20]: 100%|██████████| 728/728 [14:56<00:00,  1.23s/batch, Batch Loss=2.75e+4]\n"
     ]
    },
    {
     "name": "stdout",
     "output_type": "stream",
     "text": [
      "Epoch [20/20]\tLoss: 28472.257689088256\n"
     ]
    },
    {
     "name": "stderr",
     "output_type": "stream",
     "text": [
      "Validation : Epoch [20/20]: 100%|██████████| 127/127 [01:40<00:00,  1.26batch/s, Batch Loss=2.99e+4]\n"
     ]
    },
    {
     "name": "stdout",
     "output_type": "stream",
     "text": [
      "Epoch [20/20]\tLoss: 28214.060254675198\n",
      "\n"
     ]
    },
    {
     "name": "stderr",
     "output_type": "stream",
     "text": [
      "\u001b[34m\u001b[1mwandb\u001b[0m:                                                                                \n",
      "\u001b[34m\u001b[1mwandb\u001b[0m: \n",
      "\u001b[34m\u001b[1mwandb\u001b[0m: Run history:\n",
      "\u001b[34m\u001b[1mwandb\u001b[0m: train_epoch_loss ██▇▇▆▆▆▅▅▄▄▄▃▃▃▂▂▂▁▁\n",
      "\u001b[34m\u001b[1mwandb\u001b[0m: valid_epoch_loss ██▇▇▆▆▆▅▅▄▄▄▃▃▃▂▂▂▁▁\n",
      "\u001b[34m\u001b[1mwandb\u001b[0m: \n",
      "\u001b[34m\u001b[1mwandb\u001b[0m: Run summary:\n",
      "\u001b[34m\u001b[1mwandb\u001b[0m: train_epoch_loss 28472.25769\n",
      "\u001b[34m\u001b[1mwandb\u001b[0m: valid_epoch_loss 28214.06025\n",
      "\u001b[34m\u001b[1mwandb\u001b[0m: \n",
      "\u001b[34m\u001b[1mwandb\u001b[0m: 🚀 View run \u001b[33mv0-baseline-0.3\u001b[0m at: \u001b[34m\u001b[4mhttps://wandb.ai/sashanktalakola/viton/runs/pd0tzdee\u001b[0m\n",
      "\u001b[34m\u001b[1mwandb\u001b[0m: ⭐️ View project at: \u001b[34m\u001b[4mhttps://wandb.ai/sashanktalakola/viton\u001b[0m\n",
      "\u001b[34m\u001b[1mwandb\u001b[0m: Synced 5 W&B file(s), 0 media file(s), 0 artifact file(s) and 0 other file(s)\n",
      "\u001b[34m\u001b[1mwandb\u001b[0m: Find logs at: \u001b[35m\u001b[1m./wandb/run-20240607_035513-pd0tzdee/logs\u001b[0m\n"
     ]
    }
   ],
   "source": [
    "os.makedirs(f\"saved-models/{experiment_name}\", exist_ok=True)\n",
    "\n",
    "for epoch in range(EPOCHS):\n",
    "  train_losses = train(model, train_dataloader, loss_fn, optimizer, epoch)\n",
    "  train_epoch_loss = sum(train_losses) / len(train_losses)\n",
    "  print(f\"Epoch [{epoch+1}/{EPOCHS}]\\tLoss: {train_epoch_loss}\")\n",
    "\n",
    "  valid_losses = valid(model, valid_dataloader, loss_fn, epoch)\n",
    "  valid_epoch_loss = sum(valid_losses) / len(valid_losses)\n",
    "  print(f\"Epoch [{epoch+1}/{EPOCHS}]\\tLoss: {valid_epoch_loss}\\n\")\n",
    "\n",
    "  wandb.log({\"train_epoch_loss\": train_epoch_loss, \"valid_epoch_loss\": valid_epoch_loss})\n",
    "  torch.save(model.state_dict(), f\"saved-models/epoch - {epoch}\")\n",
    "\n",
    "wandb.finish()"
   ]
  }
 ],
 "metadata": {
  "colab": {
   "provenance": []
  },
  "kaggle": {
   "accelerator": "gpu",
   "dataSources": [
    {
     "datasetId": 4808983,
     "sourceId": 8576879,
     "sourceType": "datasetVersion"
    }
   ],
   "dockerImageVersionId": 30716,
   "isGpuEnabled": true,
   "isInternetEnabled": true,
   "language": "python",
   "sourceType": "notebook"
  },
  "kernelspec": {
   "display_name": "Python 3 (ipykernel)",
   "language": "python",
   "name": "python3"
  },
  "language_info": {
   "codemirror_mode": {
    "name": "ipython",
    "version": 3
   },
   "file_extension": ".py",
   "mimetype": "text/x-python",
   "name": "python",
   "nbconvert_exporter": "python",
   "pygments_lexer": "ipython3",
   "version": "3.11.6"
  },
  "papermill": {
   "default_parameters": {},
   "duration": 20384.678189,
   "end_time": "2024-06-07T09:34:46.549664",
   "environment_variables": {},
   "exception": null,
   "input_path": "__notebook__.ipynb",
   "output_path": "__notebook__.ipynb",
   "parameters": {},
   "start_time": "2024-06-07T03:55:01.871475",
   "version": "2.5.0"
  }
 },
 "nbformat": 4,
 "nbformat_minor": 5
}
